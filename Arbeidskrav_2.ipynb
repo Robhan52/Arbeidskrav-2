{
 "cells": [
  {
   "cell_type": "markdown",
   "id": "6113df48-28af-439d-86fa-9d6ed49768b8",
   "metadata": {},
   "source": [
    "# Arbeidskrav 2\n",
    "## Oppgave 1"
   ]
  },
  {
   "cell_type": "code",
   "execution_count": 116,
   "id": "0037b719-adf4-4b2d-95b1-be4650ae8c86",
   "metadata": {},
   "outputs": [
    {
     "name": "stdin",
     "output_type": "stream",
     "text": [
      "Hvilket år er du født?  1900\n"
     ]
    },
    {
     "name": "stdout",
     "output_type": "stream",
     "text": [
      "Når du er født i år 1900 , er du 124 år gammel.\n"
     ]
    }
   ],
   "source": [
    "# Spørsmål om når du er født?\n",
    "alder = int(input('Hvilket år er du født? ') )\n",
    "\n",
    "svar_alder = 2024 - alder\n",
    "print(\"Når du er født i år\", alder, \",\", \"er du\", svar_alder, \"år gammel.\") "
   ]
  },
  {
   "cell_type": "markdown",
   "id": "88dee172-d962-4956-9270-f2da7353ff32",
   "metadata": {},
   "source": [
    "## Oppgave 2"
   ]
  },
  {
   "cell_type": "code",
   "execution_count": 118,
   "id": "3902cc50-a456-477d-a1b6-cb5717be9061",
   "metadata": {},
   "outputs": [
    {
     "name": "stdin",
     "output_type": "stream",
     "text": [
      "Skriv inn antall elever: 20\n"
     ]
    },
    {
     "name": "stdout",
     "output_type": "stream",
     "text": [
      "Når det kommer 20 elever trenger vi  5 stk pizza.\n"
     ]
    }
   ],
   "source": [
    "\n",
    "import math\n",
    "\n",
    "# Spørsmål om antall elever?\n",
    "\n",
    "antall_elever = int(input(\"Skriv inn antall elever:\" ))\n",
    "antall_pizza = antall_elever / 4\n",
    "totalt_antall_pizza = math.ceil(antall_pizza)\n",
    "\n",
    "print(\"Når det kommer\", antall_elever, \"elever trenger vi \", totalt_antall_pizza, \"stk pizza.\")\n",
    "\n"
   ]
  },
  {
   "cell_type": "markdown",
   "id": "2d7a2620-00af-4dff-b25d-d3f462642ea8",
   "metadata": {},
   "source": [
    "## Oppgave 3"
   ]
  },
  {
   "cell_type": "code",
   "execution_count": 120,
   "id": "a7f86b0b-d898-4952-9870-8b8c9dd80b93",
   "metadata": {},
   "outputs": [
    {
     "name": "stdin",
     "output_type": "stream",
     "text": [
      "Skriv inn gradtallet: 200\n"
     ]
    },
    {
     "name": "stdout",
     "output_type": "stream",
     "text": [
      "Vinkelen 200.0 grader tilsvarer 3.4907 radianer.\n"
     ]
    }
   ],
   "source": [
    "\n",
    "import numpy as np\n",
    "# Legg inn gradtall\n",
    "v_grad = float(input('Skriv inn gradtallet:' ))\n",
    "\n",
    "# Utregning av radiantallet\n",
    "v_rad = v_grad*np.pi/180\n",
    "\n",
    "print(f'Vinkelen {v_grad} grader tilsvarer {v_rad:.4f} radianer.')\n"
   ]
  },
  {
   "cell_type": "code",
   "execution_count": null,
   "id": "0da139e5-7e10-48b7-ba09-1c9230f2a1b8",
   "metadata": {},
   "outputs": [],
   "source": [
    "## Oppgave 4 a og b"
   ]
  },
  {
   "cell_type": "code",
   "execution_count": 122,
   "id": "fa130bac-c248-424b-831f-81560747f4fd",
   "metadata": {},
   "outputs": [
    {
     "name": "stdin",
     "output_type": "stream",
     "text": [
      "Skriv inn et land:  Norge\n"
     ]
    },
    {
     "name": "stdout",
     "output_type": "stream",
     "text": [
      "Oslo er hovedstaden i Norge og det er 0.634 mill. innbyggere i Oslo\n"
     ]
    }
   ],
   "source": [
    "# a) dictionary\n",
    "data = {\n",
    "    \"Norge\": [\"Oslo\", 0.634],\n",
    "    \"England\": [\"London\", 8.982],\n",
    "    \"Frankrike\": [\"Paris\", 2.162],\n",
    "    \"Italia\": [\"Roma\", 2.873]\n",
    "}\n",
    "\n",
    "# b) program \n",
    "land = input(\"Skriv inn et land: \")\n",
    "\n",
    "if land in data:\n",
    "    hovedstad, innbyggere = data[land]\n",
    "    print(f\"{hovedstad} er hovedstaden i {land} og det er {innbyggere:.3f} mill. innbyggere i {hovedstad}\")\n",
    "else:\n",
    "    print(f\"{land} finnes ikke i databasen.\")\n"
   ]
  },
  {
   "cell_type": "markdown",
   "id": "f7c6f246-d90c-4fe7-af7e-6639d74a02c4",
   "metadata": {},
   "source": [
    "## oppgave 4 c)"
   ]
  },
  {
   "cell_type": "code",
   "execution_count": 124,
   "id": "75d4be26-9747-472f-bf91-3603a8a09caf",
   "metadata": {},
   "outputs": [
    {
     "name": "stdin",
     "output_type": "stream",
     "text": [
      "Skriv inn et land:  Norge\n"
     ]
    },
    {
     "name": "stdout",
     "output_type": "stream",
     "text": [
      "Oslo er hovedstaden i Norge og det er 0.634 mill. innbyggere i Oslo\n",
      "Land       Hovedstad      Innbyggere (mill)\n",
      "---------  -----------  -------------------\n",
      "Norge      Oslo                       0.634\n",
      "England    London                     8.982\n",
      "Frankrike  Paris                      2.162\n",
      "Italia     Roma                       2.873\n"
     ]
    }
   ],
   "source": [
    "%reset -f\n",
    "from tabulate import tabulate\n",
    "# dictionary\n",
    "data = {\n",
    "    \"Norge\": [\"Oslo\", 0.634],\n",
    "    \"England\": [\"London\", 8.982],\n",
    "    \"Frankrike\": [\"Paris\", 2.162],\n",
    "    \"Italia\": [\"Roma\", 2.873]\n",
    "}\n",
    "\n",
    "land = input(\"Skriv inn et land: \")\n",
    "\n",
    "if land in data:\n",
    "    hovedstad, innbyggere = data[land]\n",
    "    print(f\"{hovedstad} er hovedstaden i {land} og det er {innbyggere:.3f} mill. innbyggere i {hovedstad}\")\n",
    "else:\n",
    "    print(f\"{land} finnes ikke i databasen.\")  \n",
    "    hovedstad = input(f\"Skriv inn hovedstaden i {land}: \")\n",
    "    innbyggere = float(input(f\"Skriv inn antall innbyggere (i mill.) i {hovedstad}: \"))\n",
    "\n",
    "# Oppdaterer dictionaryen med den nye informasjonen\n",
    "    data[land] = [hovedstad, innbyggere]\n",
    "\n",
    "# Konverterer dictionary til en liste for tabellvisning\n",
    "table_data = [[land, info[0], info[1]] for land, info in data.items()]\n",
    "headers = [\"Land\", \"Hovedstad\", \"Innbyggere (mill)\"]\n",
    "\n",
    "# Printer ut som tabell\n",
    "print(tabulate(table_data, headers=headers, tablefmt=\"fansy_grid\"))"
   ]
  },
  {
   "cell_type": "markdown",
   "id": "4ceb320a-2c97-4751-89a4-6e79b1e15f08",
   "metadata": {},
   "source": [
    "## Oppgave 5"
   ]
  },
  {
   "cell_type": "code",
   "execution_count": 126,
   "id": "2ce575ec-2ee9-4738-a185-752266d8fa99",
   "metadata": {},
   "outputs": [
    {
     "name": "stdin",
     "output_type": "stream",
     "text": [
      "skriv inn lengden på a i mm 100\n",
      "skriv inn lengden på b i mm 200\n"
     ]
    },
    {
     "name": "stdout",
     "output_type": "stream",
     "text": [
      "Arealet på figuren er 13926.99 kvadrat millimeter\n",
      "Omkretsen på figuren er 580.69 millimeter\n"
     ]
    }
   ],
   "source": [
    "%reset -f\n",
    "import math\n",
    "\n",
    "a = float(input(\"skriv inn lengden på a i mm\"))\n",
    "b = float(input(\"skriv inn lengden på b i mm\"))\n",
    "\n",
    "# Areal\n",
    "areal_sirkel = math.pi * (0.5 * a) **2 / 2\n",
    "areal_trekant = a * b / 2\n",
    "areal_figur = areal_sirkel + areal_trekant\n",
    "areal_figur = round(areal_figur, 2)\n",
    "\n",
    "# Omkrets\n",
    "omkrets_sirkel = (2 * math.pi * a / 2) / 2\n",
    "hypotenusen = math.sqrt(a**2 + b**2) \n",
    "omkrets_trekant = hypotenusen + b  \n",
    "omkrets_figur = omkrets_sirkel + omkrets_trekant\n",
    "omkrets_figur = round(omkrets_figur, 2)\n",
    "\n",
    "\n",
    "print(\"Arealet på figuren er\", areal_figur, \"kvadrat millimeter\")\n",
    "print(\"Omkretsen på figuren er\", omkrets_figur, \"millimeter\")\n"
   ]
  },
  {
   "cell_type": "markdown",
   "id": "c65a5bee-80dc-44ce-b28d-7b67efdb7af1",
   "metadata": {},
   "source": [
    "## Oppgave 6"
   ]
  },
  {
   "cell_type": "code",
   "execution_count": 128,
   "id": "31977406-9e7d-48e5-bef5-57acf84da4dc",
   "metadata": {},
   "outputs": [
    {
     "data": {
      "image/png": "[encoded data removed]",
      "text/plain": [
       "<Figure size 640x480 with 1 Axes>"
      ]
     },
     "metadata": {},
     "output_type": "display_data"
    }
   ],
   "source": [
    "%reset -f\n",
    "import numpy as np\n",
    "import matplotlib.pyplot as plt\n",
    "\n",
    "# Definerer x-verdier og y-funksjon\n",
    "\n",
    "x = np.linspace(-10, 10, 200)\n",
    "𝑓_𝑥 = - 𝑥**2 - 5\n",
    "\n",
    "# Plotter funksjonen\n",
    "plt.plot(x, f_x, \"D-y\", linewidth = 2)\n",
    "\n",
    "# Legger til tittel og aksebeskrivelser\n",
    "plt.xlabel(\"X\")\n",
    "plt.ylabel(\"f (x)\")\n",
    "plt.title(\"Graf av funksjonen $f(x) = -x^2 - 5$\")\n",
    "\n",
    "\n",
    "# Legger til rutenett\n",
    "plt.grid()\n"
   ]
  },
  {
   "cell_type": "code",
   "execution_count": null,
   "id": "627bc5df-c1f9-44bb-bb36-a8958cbe75dd",
   "metadata": {},
   "outputs": [],
   "source": []
  }
 ],
 "metadata": {
  "kernelspec": {
   "display_name": "Python 3 (ipykernel)",
   "language": "python",
   "name": "python3"
  },
  "language_info": {
   "codemirror_mode": {
    "name": "ipython",
    "version": 3
   },
   "file_extension": ".py",
   "mimetype": "text/x-python",
   "name": "python",
   "nbconvert_exporter": "python",
   "pygments_lexer": "ipython3",
   "version": "3.12.4"
  }
 },
 "nbformat": 4,
 "nbformat_minor": 5
}
